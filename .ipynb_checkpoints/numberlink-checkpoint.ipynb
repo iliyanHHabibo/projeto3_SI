{
 "cells": [
  {
   "cell_type": "markdown",
   "metadata": {},
   "source": [
    "# Sistemas Inteligentes (2023-24)\n",
    "\n",
    "## Avaliação contínua 3 \n",
    "### O puzzle Numberlink\n",
    "#### Este enunciado foi gerado pela IA, através da aplicação imaginária *SistemiMoltoInteligenti*\n",
    "\n",
    "\n",
    "<img src=\"Imagens/numberlink_top.gif\" width=150 height=150 />"
   ]
  },
  {
   "cell_type": "markdown",
   "metadata": {},
   "source": [
    "## Puzzle Numberlink\n",
    "O puzzle `Numberlink` consiste numa grelha bidimensional formada por uma série de pares de números e por células sem números. A tua tarefa consiste em ligar cada par de números das pontas através de um caminho só formado por esse número de modo a que:\n",
    "\n",
    "* os caminhos nunca se cruzam;\n",
    "* os caminhos não têm quebras;\n",
    "* os caminhos nunca se dobram sobre si próprio formando ciclos; \n",
    "* todas as células sem números iniciais têm de ser usadas.\n",
    "\n",
    "Um puzzle `Numberlink` nunca têm caminhos formados apenas por 2 células, o que quer dizer que nunca poderemos ter 2 números iguais que pertençam a células da grelha que sejam vizinhas ortogonais. "
   ]
  },
  {
   "cell_type": "markdown",
   "metadata": {},
   "source": [
    "## Objectivo:\n",
    "O objectivo é modelizar qualquer puzzle `Numberlink` como um CSP binário utilizando a implementação da classe `CSP` do `aima_python`. \n",
    "\n",
    "Terás que desenvolver a função `CSP_numberlink` que recebe uma representação de um puzzle e que devolve uma instância da classe CSP, com as variáveis, domínios, vizinhanças e função de restrição, de modo a que se possa invocar um algoritmo de procura especializado nos CSPs e encontrar uma solução, resolvendo o puzzle."
   ]
  },
  {
   "cell_type": "markdown",
   "metadata": {},
   "source": [
    "## Representação de um puzzle Numberlink\n",
    "Vamos representar um puzzle em python através de uma lista de listas, representando cada linha numa lista, do topo para baixo: a linha de topo é a primeira e a linha de fundo é a última da lista. A lista respeita a ordem da grelha da esquerda para a direita e será formada por '.'s e por números: um elemento será '.' se corresponder a uma célula em branco ou um número se corresponder a uma célula com número.\n",
    "\n",
    "O puzzle seguinte:\n",
    "\n",
    "<img src=\"Imagens/puzzle_1.PNG\" width=650 height=650 />\n",
    "\n",
    "\n",
    "será representado por: \n",
    " ```python\n",
    "[['.','.','.','.','.','.'],\n",
    " ['.','.','.','.','.','.'],\n",
    " ['.','.','.', 3 ,'.','.'],\n",
    " ['.','.','.','.','.','.'],\n",
    " ['.','.','.','.', 2 ,'.'],\n",
    " [ 2 , 1 , 3 ,'.','.', 1 ]]\n",
    "```"
   ]
  },
  {
   "cell_type": "code",
   "execution_count": null,
   "metadata": {},
   "outputs": [],
   "source": [
    "puzzle=[['.','.','.','.','.','.'],\n",
    "        ['.','.','.','.','.','.'],\n",
    "        ['.','.','.', 3 ,'.','.'],\n",
    "        ['.','.','.','.','.','.'],\n",
    "        ['.','.','.','.', 2 ,'.'],\n",
    "        [ 2 , 1 , 3 ,'.','.', 1 ]]"
   ]
  },
  {
   "cell_type": "markdown",
   "metadata": {},
   "source": [
    "## O display do puzzle\n",
    "A seguir apresentamos a implementação do display do puzzle se for dado no formato correcto."
   ]
  },
  {
   "cell_type": "code",
   "execution_count": null,
   "metadata": {},
   "outputs": [],
   "source": [
    "def puzzle_display(puzzle):\n",
    "    comp=len(puzzle)\n",
    "    for y in range(comp):\n",
    "        for x in range(comp):\n",
    "            print(puzzle[y][x],end=' ')\n",
    "        print()"
   ]
  },
  {
   "cell_type": "markdown",
   "metadata": {},
   "source": [
    "Vamos mostrar o puzzle em modo txt:"
   ]
  },
  {
   "cell_type": "code",
   "execution_count": null,
   "metadata": {},
   "outputs": [],
   "source": [
    "puzzle_display(puzzle)"
   ]
  },
  {
   "cell_type": "markdown",
   "metadata": {},
   "source": [
    "## Variáveis \n",
    "Na modelização binária (só temos restrições no máximo que envolvem 2 variáveis), vamos ter uma variável por cada célula da grelha. Cada célula é identificada com a sua coluna e linha. A linha de topo é a linha $0$, a segunda linha a começar do topo é a linha $1$ e assim sucessivamente. A coluna mais à esquerda é a coluna $0$, a 2ª coluna mais à esquerda é a coluna $2$ e por aí adiante. Dada a célula cuja coluna $col$ e a linha $lin$, a variável correspondente é a string $V\\_col\\_lin$.\n",
    "\n",
    "Por exemplo, para o puzzle $6 \\times 6$ de cima, a célula de topo esquerdo corresponde a $V\\_0\\_0$, e a célula de fundo à direita corresponderá a $V\\_5\\_5$; a variável relativa à célula na 2ª coluna mais à esquerda da linha de topo será $V\\_1\\_0$. Para um puzzle $6\\times6$ vamos ter $36$ variáveis.\n",
    "\n",
    "**Notem que no python as variáveis terão que ser `strings`**, mas por questões de simplicidade do enunciado iremos omitir as aspas e as pelicas. Vejam o output do teste 1.\n",
    "\n",
    "**Atenção**: A lista de variáveis do atributo `variables` não precisa de estar ordenada! Os nossos testes tratam da ordenação."
   ]
  },
  {
   "cell_type": "markdown",
   "metadata": {},
   "source": [
    "### Teste 1\n",
    "Notem que tratamos da ordenação neste teste\n",
    "```python\n",
    "puzzle=[['.','.','.','.','.','.'],\n",
    "        ['.','.','.','.','.','.'],\n",
    "        ['.','.','.', 3 ,'.','.'],\n",
    "        ['.','.','.','.','.','.'],\n",
    "        ['.','.','.','.', 2 ,'.'],\n",
    "        [ 2 , 1 , 3 ,'.','.', 1 ]]\n",
    "p = CSP_numberlink(puzzle)\n",
    "print(sorted(p.variables))\n",
    "['V_0_0', 'V_0_1', 'V_0_2', 'V_0_3', 'V_0_4', 'V_0_5', 'V_1_0', 'V_1_1', 'V_1_2', 'V_1_3', 'V_1_4', 'V_1_5', 'V_2_0', 'V_2_1', 'V_2_2', 'V_2_3', 'V_2_4', 'V_2_5', 'V_3_0', 'V_3_1', 'V_3_2', 'V_3_3', 'V_3_4', 'V_3_5', 'V_4_0', 'V_4_1', 'V_4_2', 'V_4_3', 'V_4_4', 'V_4_5', 'V_5_0', 'V_5_1', 'V_5_2', 'V_5_3', 'V_5_4', 'V_5_5']\n",
    "```"
   ]
  },
  {
   "cell_type": "markdown",
   "metadata": {},
   "source": [
    "## Analogia: Os caminhos de números como canos ligados\n",
    "\n",
    "<img src=\"Imagens/pipes.jpg\" width=200 height=200 />\n",
    "\n",
    "Para ajudar a apresentar a nossa modelização, podemos olhar para a solução final formada não por caminhos de números mas por cadeias de canos coloridos, em que cada número do puzzle original corresponde a uma cor e em que cada célula é um tipo de cano de uma determinada cor e em que os canos se encaixam nos canos vizinhos. Um caminho de números corresponde a uma série de canos encaixados que acabam em 2 canos pontas que correspondem aos números do puzzle por resolver.\n",
    "\n",
    "Vejamos este puzzle:\n",
    "```python\n",
    "1 . 2 4 .\n",
    ". . . 3 .\n",
    ". . 3 . .\n",
    ". 2 4 . 5\n",
    ". 1 5 . .\n",
    "```\n",
    "\n",
    "cuja solução é:\n",
    "```python\n",
    "1 2 2 4 4\n",
    "1 2 3 3 4\n",
    "1 2 3 4 4\n",
    "1 2 4 4 5\n",
    "1 1 5 5 5\n",
    "```\n",
    "Na imagem seguinte, temos a versão do puzzle de cima em que os caminhos são canos de cores diferentes em que  o 1 corresponde ao azul, o 2 ao vermelho, o 3 ao amarelo, o 4 ao roxo e o 5 ao verde. \n",
    "<img src=\"Imagens/canosNumberlink.PNG\" width=150 height=150 />\n",
    "\n",
    "Temos assim 2 tipos de variáveis: as pontas e não pontas, que é importante distinguir para definirmos os domínios que serão formados a partir de um conjunto de valores distintos. Na verdade, na nossa modelização não vamos usar as cores mas os números do puzzle. Usámos as cores apenas para facilitar a visualização do modelo."
   ]
  },
  {
   "cell_type": "markdown",
   "metadata": {},
   "source": [
    "### Tipos de canos\n",
    "\n",
    "<img src=\"imagens\\pipe-climbers.jpg\" alt=\"Drawing\" style=\"width: 150px;\"/>\n",
    "\n",
    "Vamos ter 10 tipos de canos numerados, 4 correspondem a canos finais ou pontas e os outros 6 serão canos não finais ou não pontas.\n",
    "\n",
    "#### Finais\n",
    "Vamos ter canos finais (pontas dos caminhos e células com os números da grelha inicial do puzzle) e que se encaixam apenas com outro cano de uma célula vizinha e que podem estar orientados para sul, norte, oeste e este.\n",
    "\n",
    "* $n$: virado para cima, norte.\n",
    "* $w$: virado para a esquerda, oeste.\n",
    "* $e$: virado para a direita, este.\n",
    "* $s$: virado para baixo, sul.\n",
    "\n",
    "#### Não finais\n",
    "Vamos ter canos em células que não são pontas (células sem números da grelha inicial do puzzle) e que se encaixam sempre com 2 células vizinhas. Notem que podem ser do tipo cano vertical, cano horizontal, cotovelo para baixo e para a direita, cotovelo para baixo e para a esquerda, cotovelo para cima e para a esquerda e cotovelo para cima e para a direita.\n",
    "\n",
    "* $ns$: cano vertical\n",
    "* $we$: cano horizontal\n",
    "* $ne$: cotovelo para cima e para a direita\n",
    "* $nw$: cotovelo para cima e para a esquerda\n",
    "* $se$: cotovelo para baixo e para a direita\n",
    "* $sw$: cotovelo para baixo e para a esqueda\n",
    "\n",
    "**Os tipos de canos serão strings**, mas omitimos as pelícas ou as aspas como fizemos com as variáveis, mas que serão absolutamente necessárias no python."
   ]
  },
  {
   "cell_type": "markdown",
   "metadata": {},
   "source": [
    "## Domínios\n",
    "Considerando que o número é importante ao mesmo tempo que o tipo de cano, o domínio de cada variável vai ser uma lista de valores que correspondem a canos numerados, que vamos representar por tuplos: $(cano,numero)$, em que:\n",
    "* $cano$ corresponde a uma das strings de um dos tipos dependendo das variáveis serem ou não pontas; \n",
    "* $numero$ tem de ser um dos números do puzzle. "
   ]
  },
  {
   "cell_type": "markdown",
   "metadata": {},
   "source": [
    "### Os valores das pontas\n",
    "As pontas possuem canos que podem ser as strings em: $\\{n,s,w,e\\}$. Notem que uma ponta só pode ter um vizinho ortogonal com o mesmo número e poderá ser a norte, sul, oeste ou este, dependendo da sua posição na grelha e se as suas células vizinhas têm também números ou não.\n",
    "\n",
    "Sendo assim, uma variável que corresponda a uma célula ponta poderá ter, na melhor das hipóteses, 4 valores para o seu domínio, porque o número é dado pelo puzzle inicial e no máximo uma célula da grelha terá 4 vizinhos. Cada vizinho está relacionado com o tipo de cano que pode sair dessa célula. Se for uma célula de canto terá 2 vizinhos possíveis e ser for uma célula de borda que não é canto terá 3 vizinhos. \n",
    "\n",
    "No entanto, as pontas que são vizinhas na grelha (com números distintos) não precisam de ser vizinhas na modelação em CSP. Se duas vizinhas na grelha forem pontas satisfazem as regras do numberlink: não há caminhos formados apenas por 2 células da grelha - cada caminho tem de envolver no mínimo 3 células. Assim, é preciso ainda considerar que uma célula de ponta não pode ter como vizinha uma célula de ponta, podendo eliminarem-se alguns pares dos respectivos domínios. \n",
    "\n",
    "Assim, para o puzzle que estamos a usar como exemplo, \n",
    "```python\n",
    ". . . . . . \n",
    ". . . . . . \n",
    ". . . 3 . . \n",
    ". . . . . . \n",
    ". . . . 2 . \n",
    "2 1 3 . . 1 \n",
    "```\n",
    "o domínio de  $V\\_0\\_5$, que corresponde a uma ponta $2$, embora tenha duas células vizinhas ortogonais é apenas formado por um valor: $[(n,2)]$, porque a vizinha a este é ocupada por um número, i.e., é também uma ponta. Do mesmo modo, o domínio de $V\\_1\\_5$, que corresponde a uma ponta $1$ é também formado por um único valor: $[(n,1)]$ embora tenha 3 vizinhas ortogonais.\n",
    "\n",
    "Notem que os domínios estão intimamente ligados à relação de vizinhança do CSP. Se a ponta com um determinado número (num) não tem vizinha a oeste então não pode aparecer no seu domínio o tuplo (w,num)."
   ]
  },
  {
   "cell_type": "markdown",
   "metadata": {},
   "source": [
    "### Os valores das não pontas\n",
    "As variáveis que correspondem a células que não são pontas terão de ter 2 vizinhos com o mesmo número. Vamos considerar que elas terão também como valores tuplos formados por um cano e por um número: $(cano,número)$, em que $cano$ poderá ser um destes elementos $\\{ns, we, nw, ne, sw, se\\}$ e os números serão os números do puzzle.\n",
    "\n",
    "Notem que a localização das células impede alguns dos tuplos: por exemplo, a célula de topo à direita, se não for de ponta, poderá ser de qualquer dos números mas não pode ter como valor um tuplo com os canos em $\\{ne, ns, nw, se, we\\}$. Só pode ter como cano o cotovelo virado para sul e oeste: $sw$. Assim, o seu domínio será formado por: $[(sw,1),(sw,2),(sw,3),(sw,4)]$\n",
    "\n",
    "***Nota*** Aqui poderíamos optimizar os domínios das não pontas. Se um seu vizinho for ponta, o número só poderá ser o do seu vizinho se o cano for de encaixe com esse vizinho. Poderia diminuir alguns domínios! Mas não o faremos porque o algoritmo AC3 tratará disso."
   ]
  },
  {
   "cell_type": "markdown",
   "metadata": {},
   "source": [
    "### Ordenação dos valores dos domínios\n",
    "Não é preciso nenhuma ordenação das listas que contêm os domínios das variáveis. Os nossos testes tratarão de as ordenar."
   ]
  },
  {
   "cell_type": "markdown",
   "metadata": {},
   "source": [
    "### Teste 2\n",
    "Como os domínios estão num dicionário, para que o output dos testes seja independente da sua ordem de construção vamos testá-los aplicando a ordenação sobre a lista de pares (chave,valor).\n",
    "\n",
    "```python\n",
    "puzzle=[['.','.','.','.','.','.'],\n",
    "        ['.','.','.','.','.','.'],\n",
    "        ['.','.','.', 3 ,'.','.'],\n",
    "        ['.','.','.','.','.','.'],\n",
    "        ['.','.','.','.', 2 ,'.'],\n",
    "        [ 2 , 1 , 3 ,'.','.', 1 ]]\n",
    "p = CSP_numberlink(puzzle)\n",
    "for v in sorted(p.variables):\n",
    "    print(v,':',sorted(p.domains[v]))\n",
    "V_0_0 : [('se', 1), ('se', 2), ('se', 3)]\n",
    "V_0_1 : [('ne', 1), ('ne', 2), ('ne', 3), ('ns', 1), ('ns', 2), ('ns', 3), ('se', 1), ('se', 2), ('se', 3)]\n",
    "V_0_2 : [('ne', 1), ('ne', 2), ('ne', 3), ('ns', 1), ('ns', 2), ('ns', 3), ('se', 1), ('se', 2), ('se', 3)]\n",
    "V_0_3 : [('ne', 1), ('ne', 2), ('ne', 3), ('ns', 1), ('ns', 2), ('ns', 3), ('se', 1), ('se', 2), ('se', 3)]\n",
    "V_0_4 : [('ne', 1), ('ne', 2), ('ne', 3), ('ns', 1), ('ns', 2), ('ns', 3), ('se', 1), ('se', 2), ('se', 3)]\n",
    "V_0_5 : [('n', 2)]\n",
    "V_1_0 : [('se', 1), ('se', 2), ('se', 3), ('sw', 1), ('sw', 2), ('sw', 3), ('we', 1), ('we', 2), ('we', 3)]\n",
    "V_1_1 : [('ne', 1), ('ne', 2), ('ne', 3), ('ns', 1), ('ns', 2), ('ns', 3), ('nw', 1), ('nw', 2), ('nw', 3), ('se', 1), ('se', 2), ('se', 3), ('sw', 1), ('sw', 2), ('sw', 3), ('we', 1), ('we', 2), ('we', 3)]\n",
    "V_1_2 : [('ne', 1), ('ne', 2), ('ne', 3), ('ns', 1), ('ns', 2), ('ns', 3), ('nw', 1), ('nw', 2), ('nw', 3), ('se', 1), ('se', 2), ('se', 3), ('sw', 1), ('sw', 2), ('sw', 3), ('we', 1), ('we', 2), ('we', 3)]\n",
    "V_1_3 : [('ne', 1), ('ne', 2), ('ne', 3), ('ns', 1), ('ns', 2), ('ns', 3), ('nw', 1), ('nw', 2), ('nw', 3), ('se', 1), ('se', 2), ('se', 3), ('sw', 1), ('sw', 2), ('sw', 3), ('we', 1), ('we', 2), ('we', 3)]\n",
    "V_1_4 : [('ne', 1), ('ne', 2), ('ne', 3), ('ns', 1), ('ns', 2), ('ns', 3), ('nw', 1), ('nw', 2), ('nw', 3), ('se', 1), ('se', 2), ('se', 3), ('sw', 1), ('sw', 2), ('sw', 3), ('we', 1), ('we', 2), ('we', 3)]\n",
    "V_1_5 : [('n', 1)]\n",
    "V_2_0 : [('se', 1), ('se', 2), ('se', 3), ('sw', 1), ('sw', 2), ('sw', 3), ('we', 1), ('we', 2), ('we', 3)]\n",
    "V_2_1 : [('ne', 1), ('ne', 2), ('ne', 3), ('ns', 1), ('ns', 2), ('ns', 3), ('nw', 1), ('nw', 2), ('nw', 3), ('se', 1), ('se', 2), ('se', 3), ('sw', 1), ('sw', 2), ('sw', 3), ('we', 1), ('we', 2), ('we', 3)]\n",
    "V_2_2 : [('ne', 1), ('ne', 2), ('ne', 3), ('ns', 1), ('ns', 2), ('ns', 3), ('nw', 1), ('nw', 2), ('nw', 3), ('se', 1), ('se', 2), ('se', 3), ('sw', 1), ('sw', 2), ('sw', 3), ('we', 1), ('we', 2), ('we', 3)]\n",
    "V_2_3 : [('ne', 1), ('ne', 2), ('ne', 3), ('ns', 1), ('ns', 2), ('ns', 3), ('nw', 1), ('nw', 2), ('nw', 3), ('se', 1), ('se', 2), ('se', 3), ('sw', 1), ('sw', 2), ('sw', 3), ('we', 1), ('we', 2), ('we', 3)]\n",
    "V_2_4 : [('ne', 1), ('ne', 2), ('ne', 3), ('ns', 1), ('ns', 2), ('ns', 3), ('nw', 1), ('nw', 2), ('nw', 3), ('se', 1), ('se', 2), ('se', 3), ('sw', 1), ('sw', 2), ('sw', 3), ('we', 1), ('we', 2), ('we', 3)]\n",
    "V_2_5 : [('e', 3), ('n', 3)]\n",
    "V_3_0 : [('se', 1), ('se', 2), ('se', 3), ('sw', 1), ('sw', 2), ('sw', 3), ('we', 1), ('we', 2), ('we', 3)]\n",
    "V_3_1 : [('ne', 1), ('ne', 2), ('ne', 3), ('ns', 1), ('ns', 2), ('ns', 3), ('nw', 1), ('nw', 2), ('nw', 3), ('se', 1), ('se', 2), ('se', 3), ('sw', 1), ('sw', 2), ('sw', 3), ('we', 1), ('we', 2), ('we', 3)]\n",
    "V_3_2 : [('e', 3), ('n', 3), ('s', 3), ('w', 3)]\n",
    "V_3_3 : [('ne', 1), ('ne', 2), ('ne', 3), ('ns', 1), ('ns', 2), ('ns', 3), ('nw', 1), ('nw', 2), ('nw', 3), ('se', 1), ('se', 2), ('se', 3), ('sw', 1), ('sw', 2), ('sw', 3), ('we', 1), ('we', 2), ('we', 3)]\n",
    "V_3_4 : [('ne', 1), ('ne', 2), ('ne', 3), ('ns', 1), ('ns', 2), ('ns', 3), ('nw', 1), ('nw', 2), ('nw', 3), ('se', 1), ('se', 2), ('se', 3), ('sw', 1), ('sw', 2), ('sw', 3), ('we', 1), ('we', 2), ('we', 3)]\n",
    "V_3_5 : [('ne', 1), ('ne', 2), ('ne', 3), ('nw', 1), ('nw', 2), ('nw', 3), ('we', 1), ('we', 2), ('we', 3)]\n",
    "V_4_0 : [('se', 1), ('se', 2), ('se', 3), ('sw', 1), ('sw', 2), ('sw', 3), ('we', 1), ('we', 2), ('we', 3)]\n",
    "V_4_1 : [('ne', 1), ('ne', 2), ('ne', 3), ('ns', 1), ('ns', 2), ('ns', 3), ('nw', 1), ('nw', 2), ('nw', 3), ('se', 1), ('se', 2), ('se', 3), ('sw', 1), ('sw', 2), ('sw', 3), ('we', 1), ('we', 2), ('we', 3)]\n",
    "V_4_2 : [('ne', 1), ('ne', 2), ('ne', 3), ('ns', 1), ('ns', 2), ('ns', 3), ('nw', 1), ('nw', 2), ('nw', 3), ('se', 1), ('se', 2), ('se', 3), ('sw', 1), ('sw', 2), ('sw', 3), ('we', 1), ('we', 2), ('we', 3)]\n",
    "V_4_3 : [('ne', 1), ('ne', 2), ('ne', 3), ('ns', 1), ('ns', 2), ('ns', 3), ('nw', 1), ('nw', 2), ('nw', 3), ('se', 1), ('se', 2), ('se', 3), ('sw', 1), ('sw', 2), ('sw', 3), ('we', 1), ('we', 2), ('we', 3)]\n",
    "V_4_4 : [('e', 2), ('n', 2), ('s', 2), ('w', 2)]\n",
    "V_4_5 : [('ne', 1), ('ne', 2), ('ne', 3), ('nw', 1), ('nw', 2), ('nw', 3), ('we', 1), ('we', 2), ('we', 3)]\n",
    "V_5_0 : [('sw', 1), ('sw', 2), ('sw', 3)]\n",
    "V_5_1 : [('ns', 1), ('ns', 2), ('ns', 3), ('nw', 1), ('nw', 2), ('nw', 3), ('sw', 1), ('sw', 2), ('sw', 3)]\n",
    "V_5_2 : [('ns', 1), ('ns', 2), ('ns', 3), ('nw', 1), ('nw', 2), ('nw', 3), ('sw', 1), ('sw', 2), ('sw', 3)]\n",
    "V_5_3 : [('ns', 1), ('ns', 2), ('ns', 3), ('nw', 1), ('nw', 2), ('nw', 3), ('sw', 1), ('sw', 2), ('sw', 3)]\n",
    "V_5_4 : [('ns', 1), ('ns', 2), ('ns', 3), ('nw', 1), ('nw', 2), ('nw', 3), ('sw', 1), ('sw', 2), ('sw', 3)]\n",
    "V_5_5 : [('n', 1), ('w', 1)]\n",
    "```"
   ]
  },
  {
   "cell_type": "markdown",
   "metadata": {},
   "source": [
    "## As vizinhanças\n",
    "\n",
    "<img src=\"imagens\\vizinhos.jpg\" alt=\"Drawing\" style=\"width: 180px;\"/>\n",
    "\n",
    "Notem que o puzzle é ortogonal e assim as vizinhanças de cada variável serão dadas pelas variáveis correspondentes às células vizinhas da respectiva célula a norte, sul, este e oeste. As variáveis dos cantos e nas bordas terão menos do que 4 vizinhas. Mais, as variáveis que são pontas nunca são vizinhas de outras pontas. Isto, porque como dissemos atrás não há caminhos formados apenas por 2 células e por isso duas pontas vizinhas nunca se podem ligar à partida (terão de ter números distintos). Escusamos de o explicitar nas restrições, fica logo inscrito nas vizinhanças e nos domínios.\n",
    "\n",
    "**Atenção**: A lista de variáveis vizinhas de cada variável devem estar ordenadas por ordem alfanumérica. Assim a lista de vizinhas da variável $V\\_0\\_0$ terá de ser $[V\\_0\\_1, V\\_1\\_0]$ e as vizinhas de  $V\\_1\\_1$ serão $[V\\_0\\_1, V\\_1\\_0, V\\_1\\_2, V\\_2\\_1]$."
   ]
  },
  {
   "cell_type": "markdown",
   "metadata": {},
   "source": [
    "### Teste 3\n",
    "Fazemos o mesmo com as vizinhanças: por estarem num dicionário ordenamos a lista de pares (chave,valor) obtida através da função `items`.\n",
    "```python\n",
    "puzzle=[['.','.','.','.','.','.'],\n",
    "        ['.','.','.','.','.','.'],\n",
    "        ['.','.','.', 3 ,'.','.'],\n",
    "        ['.','.','.','.','.','.'],\n",
    "        ['.','.','.','.', 2 ,'.'],\n",
    "        [ 2 , 1 , 3 ,'.','.', 1 ]]\n",
    "p = CSP_numberlink(puzzle)\n",
    "print(sorted(p.neighbors.items()))\n",
    "[('V_0_0', ['V_0_1', 'V_1_0']), ('V_0_1', ['V_0_0', 'V_0_2', 'V_1_1']), ('V_0_2', ['V_0_1', 'V_0_3', 'V_1_2']), ('V_0_3', ['V_0_2', 'V_0_4', 'V_1_3']), ('V_0_4', ['V_0_3', 'V_0_5', 'V_1_4']), ('V_0_5', ['V_0_4']), ('V_1_0', ['V_0_0', 'V_1_1', 'V_2_0']), ('V_1_1', ['V_0_1', 'V_1_0', 'V_1_2', 'V_2_1']), ('V_1_2', ['V_0_2', 'V_1_1', 'V_1_3', 'V_2_2']), ('V_1_3', ['V_0_3', 'V_1_2', 'V_1_4', 'V_2_3']), ('V_1_4', ['V_0_4', 'V_1_3', 'V_1_5', 'V_2_4']), ('V_1_5', ['V_1_4']), ('V_2_0', ['V_1_0', 'V_2_1', 'V_3_0']), ('V_2_1', ['V_1_1', 'V_2_0', 'V_2_2', 'V_3_1']), ('V_2_2', ['V_1_2', 'V_2_1', 'V_2_3', 'V_3_2']), ('V_2_3', ['V_1_3', 'V_2_2', 'V_2_4', 'V_3_3']), ('V_2_4', ['V_1_4', 'V_2_3', 'V_2_5', 'V_3_4']), ('V_2_5', ['V_2_4', 'V_3_5']), ('V_3_0', ['V_2_0', 'V_3_1', 'V_4_0']), ('V_3_1', ['V_2_1', 'V_3_0', 'V_3_2', 'V_4_1']), ('V_3_2', ['V_2_2', 'V_3_1', 'V_3_3', 'V_4_2']), ('V_3_3', ['V_2_3', 'V_3_2', 'V_3_4', 'V_4_3']), ('V_3_4', ['V_2_4', 'V_3_3', 'V_3_5', 'V_4_4']), ('V_3_5', ['V_2_5', 'V_3_4', 'V_4_5']), ('V_4_0', ['V_3_0', 'V_4_1', 'V_5_0']), ('V_4_1', ['V_3_1', 'V_4_0', 'V_4_2', 'V_5_1']), ('V_4_2', ['V_3_2', 'V_4_1', 'V_4_3', 'V_5_2']), ('V_4_3', ['V_3_3', 'V_4_2', 'V_4_4', 'V_5_3']), ('V_4_4', ['V_3_4', 'V_4_3', 'V_4_5', 'V_5_4']), ('V_4_5', ['V_3_5', 'V_4_4', 'V_5_5']), ('V_5_0', ['V_4_0', 'V_5_1']), ('V_5_1', ['V_4_1', 'V_5_0', 'V_5_2']), ('V_5_2', ['V_4_2', 'V_5_1', 'V_5_3']), ('V_5_3', ['V_4_3', 'V_5_2', 'V_5_4']), ('V_5_4', ['V_4_4', 'V_5_3', 'V_5_5']), ('V_5_5', ['V_4_5', 'V_5_4'])]\n",
    "```"
   ]
  },
  {
   "cell_type": "markdown",
   "metadata": {},
   "source": [
    "## As restrições\n",
    "<img src=\"Imagens/nacyStrip.PNG\" width=500 height=500 />\n",
    "\n",
    "Deixamos as restrições para vocês e os testes delas para nós."
   ]
  },
  {
   "cell_type": "markdown",
   "metadata": {},
   "source": [
    "### Teste 4\n",
    "```python\n",
    "puzzle=[['.','.','.','.','.','.'],\n",
    "        ['.','.','.','.','.','.'],\n",
    "        ['.','.','.', 3 ,'.','.'],\n",
    "        ['.','.','.','.','.','.'],\n",
    "        ['.','.','.','.', 2 ,'.'],\n",
    "        [ 2 , 1 , 3 ,'.','.', 1 ]]\n",
    "p = CSP_numberlink(puzzle)\n",
    "print(p.constraints('V_1_0',('se',1),'V_2_0',('we',2)))\n",
    "False\n",
    "```"
   ]
  },
  {
   "cell_type": "markdown",
   "metadata": {},
   "source": [
    "### Teste 5\n",
    "```python\n",
    "puzzle=[['.','.','.','.','.','.'],\n",
    "        ['.','.','.','.','.','.'],\n",
    "        ['.','.','.', 3 ,'.','.'],\n",
    "        ['.','.','.','.','.','.'],\n",
    "        ['.','.','.','.', 2 ,'.'],\n",
    "        [ 2 , 1 , 3 ,'.','.', 1 ]]\n",
    "p = CSP_numberlink(puzzle)\n",
    "print(p.constraints('V_2_4',('n',3),'V_2_3',('se',3)))\n",
    "True\n",
    "```"
   ]
  },
  {
   "cell_type": "markdown",
   "metadata": {},
   "source": [
    "## Aplicando o AC3"
   ]
  },
  {
   "cell_type": "markdown",
   "metadata": {},
   "source": [
    "Vamos aplicar o `AC3` e depois imprimir o domínio corrente:"
   ]
  },
  {
   "cell_type": "markdown",
   "metadata": {},
   "source": [
    "### Teste 6\n",
    "O AC3 resolve o problema sem recorrer à Procura em Profundidade-primeiro com Retrocesso. Como queremos apresentar os domínios depois da aplicação do AC3 teremos de ordenar os pares (chave,valor) do respectivo dicionário.\n",
    "```python\n",
    "puzzle=[['.','.','.','.','.','.'],\n",
    "        ['.','.','.','.','.','.'],\n",
    "        ['.','.','.', 3 ,'.','.'],\n",
    "        ['.','.','.','.','.','.'],\n",
    "        ['.','.','.','.', 2 ,'.'],\n",
    "        [ 2 , 1 , 3 ,'.','.', 1 ]]\n",
    "p = CSP_numberlink(puzzle)\n",
    "z=AC3(p)\n",
    "for v in sorted(p.variables):\n",
    "    print(sorted(v,':',z.curr_domains[v]))\n",
    "V_0_0 : [('se', 2)]\n",
    "V_0_1 : [('ns', 2)]\n",
    "V_0_2 : [('ns', 2)]\n",
    "V_0_3 : [('ns', 2)]\n",
    "V_0_4 : [('ns', 2)]\n",
    "V_0_5 : [('n', 2)]\n",
    "V_1_0 : [('we', 2)]\n",
    "V_1_1 : [('se', 1)]\n",
    "V_1_2 : [('ns', 1)]\n",
    "V_1_3 : [('ns', 1)]\n",
    "V_1_4 : [('ns', 1)]\n",
    "V_1_5 : [('n', 1)]\n",
    "V_2_0 : [('we', 2)]\n",
    "V_2_1 : [('we', 1)]\n",
    "V_2_2 : [('se', 3)]\n",
    "V_2_3 : [('ns', 3)]\n",
    "V_2_4 : [('ns', 3)]\n",
    "V_2_5 : [('n', 3)]\n",
    "V_3_0 : [('we', 2)]\n",
    "V_3_1 : [('we', 1)]\n",
    "V_3_2 : [('w', 3)]\n",
    "V_3_3 : [('se', 1)]\n",
    "V_3_4 : [('ns', 1)]\n",
    "V_3_5 : [('ne', 1)]\n",
    "V_4_0 : [('we', 2)]\n",
    "V_4_1 : [('sw', 1)]\n",
    "V_4_2 : [('ns', 1)]\n",
    "V_4_3 : [('nw', 1)]\n",
    "V_4_4 : [('e', 2)]\n",
    "V_4_5 : [('we', 1)]\n",
    "V_5_0 : [('sw', 2)]\n",
    "V_5_1 : [('ns', 2)]\n",
    "V_5_2 : [('ns', 2)]\n",
    "V_5_3 : [('ns', 2)]\n",
    "V_5_4 : [('nw', 2)]\n",
    "V_5_5 : [('w', 1)]\n",
    "```"
   ]
  },
  {
   "cell_type": "markdown",
   "metadata": {},
   "source": [
    "## Resolvendo o puzzle\n",
    "Para resolvermos o puzzle, podemos criar a instância do CSP dado a representação do puzzle e invocar a função `backtracking_search`.\n",
    "\n",
    "```python\n",
    "puzzle=[['.','.','.','.','.','.'],\n",
    "        ['.','.','.','.','.','.'],\n",
    "        ['.','.','.', 3 ,'.','.'],\n",
    "        ['.','.','.','.','.','.'],\n",
    "        ['.','.','.','.', 2 ,'.'],\n",
    "        [ 2 , 1 , 3 ,'.','.', 1 ]]\n",
    "p = CSP_numberlink(puzzle)\n",
    "r = backtracking_search(p)\n",
    "print(r)\n",
    "{'V_0_0': ('se', 2), 'V_0_1': ('ns', 2), 'V_0_2': ('ns', 2), 'V_0_3': ('ns', 2), 'V_0_4': ('ns', 2), 'V_0_5': ('n', 2), 'V_1_0': ('we', 2), 'V_1_1': ('se', 1), 'V_1_2': ('ns', 1), 'V_1_3': ('ns', 1), 'V_1_4': ('ns', 1), 'V_1_5': ('n', 1), 'V_2_0': ('we', 2), 'V_2_1': ('we', 1), 'V_2_2': ('se', 3), 'V_2_3': ('ns', 3), 'V_2_4': ('ns', 3), 'V_2_5': ('n', 3), 'V_3_0': ('we', 2), 'V_3_1': ('we', 1), 'V_3_2': ('w', 3), 'V_3_3': ('se', 1), 'V_3_4': ('ns', 1), 'V_3_5': ('ne', 1), 'V_4_0': ('we', 2), 'V_4_1': ('sw', 1), 'V_4_2': ('ns', 1), 'V_4_3': ('nw', 1), 'V_4_4': ('e', 2), 'V_4_5': ('we', 1), 'V_5_0': ('sw', 2), 'V_5_1': ('ns', 2), 'V_5_2': ('ns', 2), 'V_5_3': ('ns', 2), 'V_5_4': ('nw', 2), 'V_5_5': ('w', 1)}\n",
    "```"
   ]
  },
  {
   "cell_type": "markdown",
   "metadata": {},
   "source": [
    "## Apresentando a solução"
   ]
  },
  {
   "cell_type": "markdown",
   "metadata": {},
   "source": [
    "Depois de resolver o puzzle convém mostrar a solução e para isso disponibilizamos a função `puzzle_resolvido` que recebe o puzzle original e o dicionário com uma afectação e devolve o puzzle preenchido com os números de acordo com a afectação, que pode ser apresentado em modo txt invocando a função `display_puzzle`.\n",
    "\n",
    "### Teste 7\n",
    "``` python\n",
    "puzzle=[['.','.','.','.','.','.'],\n",
    "        ['.','.','.','.','.','.'],\n",
    "        ['.','.','.', 3 ,'.','.'],\n",
    "        ['.','.','.','.','.','.'],\n",
    "        ['.','.','.','.', 2 ,'.'],\n",
    "        [ 2 , 1 , 3 ,'.','.', 1 ]]\n",
    "p = CSP_numberlink(puzzle)\n",
    "r = backtracking_search(p)\n",
    "new_puzzle=puzzle_resolvido(puzzle,r)\n",
    "puzzle_display(new_puzzle)\n",
    "2 2 2 2 2 2 \n",
    "2 1 1 1 1 2 \n",
    "2 1 3 3 1 2 \n",
    "2 1 3 1 1 2 \n",
    "2 1 3 1 2 2 \n",
    "2 1 3 1 1 1 \n",
    "```"
   ]
  },
  {
   "cell_type": "markdown",
   "metadata": {},
   "source": [
    "## Submissão\n",
    "\n",
    "<img src=\"imagens\\numbers.gif\" alt=\"Drawing\" style=\"width: 180px;\"/>\n",
    "\n",
    "#### Quizz\n",
    "\n",
    "Cada grupo deve completar a implementação da função: `CSP_numberlink`, e testá-la no link do quizz **Avaliação Contínua 3** que está na página da disciplina, introduzindo aí o vosso código. Os vários elementos do grupo podem desenvolver, submeter e avaliar o código várias vezes, sendo a submissão com melhor nota a que será considerada.\n",
    "\n",
    "Esse quizz é constituído por uma única pergunta, que cobre a implementação da função  `CSP_numberlink` que será avaliada através de um conjunto de testes automáticos visíveis e outros invisíveis, valendo um total de $1.75$ valores.\n",
    "\n",
    "Os 7 testes visíveis valem $6$ em $20$, enquanto que os testes invisíveis valem $14$ em $20$.\n",
    "\n",
    "#### Ficheiro Pyhton\n",
    "\n",
    "Simultaneamente, é necessário submeter o script Python que contém todo o código submetido no quizz. Só se pretende uma submissão por grupo. Esse ficheiro deve chamar-se **SI-proj3-XX.py**, em que substituem XX pelo número do grupo.\n",
    "\n",
    "<span style=\"color:red\">ATENÇÂO: Se não submeterem o ficheiro python ou não estiverem inscritos num grupo, não terão nota nesta avaliação contínua.</span>.\n",
    "\n",
    "Dúvidas: Quaisquer dúvidas que tenham a ver com a interpretação do enunciado, devem enviar para o fórum da disciplina. Qualquer outra dúvida enviem para pub@di.fc.ul.py.\n",
    "\n",
    "<img src=\"imagens\\exit.jpg\" alt=\"Drawing\" style=\"width: 180px;\"/>"
   ]
  }
 ],
 "metadata": {
  "kernelspec": {
   "display_name": "Python 3 (ipykernel)",
   "language": "python",
   "name": "python3"
  },
  "language_info": {
   "codemirror_mode": {
    "name": "ipython",
    "version": 3
   },
   "file_extension": ".py",
   "mimetype": "text/x-python",
   "name": "python",
   "nbconvert_exporter": "python",
   "pygments_lexer": "ipython3",
   "version": "3.9.13"
  }
 },
 "nbformat": 4,
 "nbformat_minor": 4
}
